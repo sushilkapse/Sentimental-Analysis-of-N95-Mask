{
 "cells": [
  {
   "cell_type": "code",
   "execution_count": 5,
   "metadata": {},
   "outputs": [],
   "source": [
    "import numpy as np\n",
    "import pandas as pd \n",
    "import string\n",
    "import spacy # language models\n",
    "nlp = spacy.load(\"en_core_web_sm\")\n",
    "\n",
    "from matplotlib.pyplot import imread\n",
    "from matplotlib import pyplot as plt\n",
    "from wordcloud import WordCloud\n",
    "%matplotlib inline"
   ]
  },
  {
   "cell_type": "code",
   "execution_count": 6,
   "metadata": {},
   "outputs": [],
   "source": [
    "import pandas\n",
    "book=pd.read_csv(\"C:/Users/SUSHIL/Desktop/n95mask.csv\",error_bad_lines=False,encoding='cp1252')"
   ]
  },
  {
   "cell_type": "code",
   "execution_count": 7,
   "metadata": {},
   "outputs": [
    {
     "data": {
      "text/html": [
       "<div>\n",
       "<style scoped>\n",
       "    .dataframe tbody tr th:only-of-type {\n",
       "        vertical-align: middle;\n",
       "    }\n",
       "\n",
       "    .dataframe tbody tr th {\n",
       "        vertical-align: top;\n",
       "    }\n",
       "\n",
       "    .dataframe thead th {\n",
       "        text-align: right;\n",
       "    }\n",
       "</style>\n",
       "<table border=\"1\" class=\"dataframe\">\n",
       "  <thead>\n",
       "    <tr style=\"text-align: right;\">\n",
       "      <th></th>\n",
       "      <th>Text</th>\n",
       "    </tr>\n",
       "  </thead>\n",
       "  <tbody>\n",
       "    <tr>\n",
       "      <th>0</th>\n",
       "      <td>I went to reorder section to purchase this mas...</td>\n",
       "    </tr>\n",
       "    <tr>\n",
       "      <th>1</th>\n",
       "      <td>These masks are really awesome.. its thread is...</td>\n",
       "    </tr>\n",
       "    <tr>\n",
       "      <th>2</th>\n",
       "      <td>Best Item , these N95 are of perfect quality a...</td>\n",
       "    </tr>\n",
       "    <tr>\n",
       "      <th>3</th>\n",
       "      <td>Same to same as shown in image , coverage of t...</td>\n",
       "    </tr>\n",
       "    <tr>\n",
       "      <th>4</th>\n",
       "      <td>Excellent quality... And interesting thing is ...</td>\n",
       "    </tr>\n",
       "    <tr>\n",
       "      <th>5</th>\n",
       "      <td>Gd quality mask on its category.u can go for i...</td>\n",
       "    </tr>\n",
       "    <tr>\n",
       "      <th>6</th>\n",
       "      <td>perfect size that fits to all</td>\n",
       "    </tr>\n",
       "    <tr>\n",
       "      <th>7</th>\n",
       "      <td>It contains 10 packet with perfectly packed</td>\n",
       "    </tr>\n",
       "    <tr>\n",
       "      <th>8</th>\n",
       "      <td>Every pieces was perfect that is no defect</td>\n",
       "    </tr>\n",
       "    <tr>\n",
       "      <th>9</th>\n",
       "      <td>In market it's one pieces is high so value for...</td>\n",
       "    </tr>\n",
       "    <tr>\n",
       "      <th>10</th>\n",
       "      <td>All masks are of same size and are very comfor...</td>\n",
       "    </tr>\n",
       "    <tr>\n",
       "      <th>11</th>\n",
       "      <td>And super safe.</td>\n",
       "    </tr>\n",
       "    <tr>\n",
       "      <th>12</th>\n",
       "      <td>Have ordered this product multiple times. Rece...</td>\n",
       "    </tr>\n",
       "    <tr>\n",
       "      <th>13</th>\n",
       "      <td>Very nice product I loved it it is suitable fo...</td>\n",
       "    </tr>\n",
       "    <tr>\n",
       "      <th>14</th>\n",
       "      <td>Recived only 9 mask actual order was your 10 mask</td>\n",
       "    </tr>\n",
       "    <tr>\n",
       "      <th>15</th>\n",
       "      <td>I re order the mask assuming the quality would...</td>\n",
       "    </tr>\n",
       "    <tr>\n",
       "      <th>16</th>\n",
       "      <td>only got 15 pieces of mask</td>\n",
       "    </tr>\n",
       "    <tr>\n",
       "      <th>17</th>\n",
       "      <td>Very Very Good Product Send By Flipkart Thanks...</td>\n",
       "    </tr>\n",
       "    <tr>\n",
       "      <th>18</th>\n",
       "      <td>I'm so disappointed in buying this product why...</td>\n",
       "    </tr>\n",
       "    <tr>\n",
       "      <th>19</th>\n",
       "      <td>1) most of the mask doesn't contain the tie</td>\n",
       "    </tr>\n",
       "    <tr>\n",
       "      <th>20</th>\n",
       "      <td>2) all mask are different</td>\n",
       "    </tr>\n",
       "    <tr>\n",
       "      <th>21</th>\n",
       "      <td>3)poor quality</td>\n",
       "    </tr>\n",
       "    <tr>\n",
       "      <th>22</th>\n",
       "      <td>4) it cannot te considered as N95 mask</td>\n",
       "    </tr>\n",
       "    <tr>\n",
       "      <th>23</th>\n",
       "      <td>I receieved only 16 masks waste of money dont ...</td>\n",
       "    </tr>\n",
       "    <tr>\n",
       "      <th>24</th>\n",
       "      <td>Amazing Product , All N95 masks are so cheap p...</td>\n",
       "    </tr>\n",
       "  </tbody>\n",
       "</table>\n",
       "</div>"
      ],
      "text/plain": [
       "                                                 Text\n",
       "0   I went to reorder section to purchase this mas...\n",
       "1   These masks are really awesome.. its thread is...\n",
       "2   Best Item , these N95 are of perfect quality a...\n",
       "3   Same to same as shown in image , coverage of t...\n",
       "4   Excellent quality... And interesting thing is ...\n",
       "5   Gd quality mask on its category.u can go for i...\n",
       "6                       perfect size that fits to all\n",
       "7         It contains 10 packet with perfectly packed\n",
       "8          Every pieces was perfect that is no defect\n",
       "9   In market it's one pieces is high so value for...\n",
       "10  All masks are of same size and are very comfor...\n",
       "11                                    And super safe.\n",
       "12  Have ordered this product multiple times. Rece...\n",
       "13  Very nice product I loved it it is suitable fo...\n",
       "14  Recived only 9 mask actual order was your 10 mask\n",
       "15  I re order the mask assuming the quality would...\n",
       "16                         only got 15 pieces of mask\n",
       "17  Very Very Good Product Send By Flipkart Thanks...\n",
       "18  I'm so disappointed in buying this product why...\n",
       "19        1) most of the mask doesn't contain the tie\n",
       "20                          2) all mask are different\n",
       "21                                     3)poor quality\n",
       "22             4) it cannot te considered as N95 mask\n",
       "23  I receieved only 16 masks waste of money dont ...\n",
       "24  Amazing Product , All N95 masks are so cheap p..."
      ]
     },
     "execution_count": 7,
     "metadata": {},
     "output_type": "execute_result"
    }
   ],
   "source": [
    "book"
   ]
  },
  {
   "cell_type": "code",
   "execution_count": 8,
   "metadata": {},
   "outputs": [],
   "source": [
    "from afinn import Afinn\n",
    "afn=Afinn()"
   ]
  },
  {
   "cell_type": "code",
   "execution_count": 9,
   "metadata": {},
   "outputs": [
    {
     "data": {
      "text/plain": [
       "(2477, 2)"
      ]
     },
     "execution_count": 9,
     "metadata": {},
     "output_type": "execute_result"
    }
   ],
   "source": [
    "afinn = pd.read_csv('C:/Users/SUSHIL/Downloads/Afinn.csv', sep=',', encoding='latin-1')\n",
    "afinn.shape"
   ]
  },
  {
   "cell_type": "code",
   "execution_count": 10,
   "metadata": {},
   "outputs": [
    {
     "data": {
      "text/html": [
       "<div>\n",
       "<style scoped>\n",
       "    .dataframe tbody tr th:only-of-type {\n",
       "        vertical-align: middle;\n",
       "    }\n",
       "\n",
       "    .dataframe tbody tr th {\n",
       "        vertical-align: top;\n",
       "    }\n",
       "\n",
       "    .dataframe thead th {\n",
       "        text-align: right;\n",
       "    }\n",
       "</style>\n",
       "<table border=\"1\" class=\"dataframe\">\n",
       "  <thead>\n",
       "    <tr style=\"text-align: right;\">\n",
       "      <th></th>\n",
       "      <th>word</th>\n",
       "      <th>value</th>\n",
       "    </tr>\n",
       "  </thead>\n",
       "  <tbody>\n",
       "    <tr>\n",
       "      <th>0</th>\n",
       "      <td>abandon</td>\n",
       "      <td>-2</td>\n",
       "    </tr>\n",
       "    <tr>\n",
       "      <th>1</th>\n",
       "      <td>abandoned</td>\n",
       "      <td>-2</td>\n",
       "    </tr>\n",
       "    <tr>\n",
       "      <th>2</th>\n",
       "      <td>abandons</td>\n",
       "      <td>-2</td>\n",
       "    </tr>\n",
       "    <tr>\n",
       "      <th>3</th>\n",
       "      <td>abducted</td>\n",
       "      <td>-2</td>\n",
       "    </tr>\n",
       "    <tr>\n",
       "      <th>4</th>\n",
       "      <td>abduction</td>\n",
       "      <td>-2</td>\n",
       "    </tr>\n",
       "    <tr>\n",
       "      <th>...</th>\n",
       "      <td>...</td>\n",
       "      <td>...</td>\n",
       "    </tr>\n",
       "    <tr>\n",
       "      <th>2472</th>\n",
       "      <td>yucky</td>\n",
       "      <td>-2</td>\n",
       "    </tr>\n",
       "    <tr>\n",
       "      <th>2473</th>\n",
       "      <td>yummy</td>\n",
       "      <td>3</td>\n",
       "    </tr>\n",
       "    <tr>\n",
       "      <th>2474</th>\n",
       "      <td>zealot</td>\n",
       "      <td>-2</td>\n",
       "    </tr>\n",
       "    <tr>\n",
       "      <th>2475</th>\n",
       "      <td>zealots</td>\n",
       "      <td>-2</td>\n",
       "    </tr>\n",
       "    <tr>\n",
       "      <th>2476</th>\n",
       "      <td>zealous</td>\n",
       "      <td>2</td>\n",
       "    </tr>\n",
       "  </tbody>\n",
       "</table>\n",
       "<p>2477 rows × 2 columns</p>\n",
       "</div>"
      ],
      "text/plain": [
       "           word  value\n",
       "0       abandon     -2\n",
       "1     abandoned     -2\n",
       "2      abandons     -2\n",
       "3      abducted     -2\n",
       "4     abduction     -2\n",
       "...         ...    ...\n",
       "2472      yucky     -2\n",
       "2473      yummy      3\n",
       "2474     zealot     -2\n",
       "2475    zealots     -2\n",
       "2476    zealous      2\n",
       "\n",
       "[2477 rows x 2 columns]"
      ]
     },
     "execution_count": 10,
     "metadata": {},
     "output_type": "execute_result"
    }
   ],
   "source": [
    "afinn"
   ]
  },
  {
   "cell_type": "code",
   "execution_count": 11,
   "metadata": {},
   "outputs": [],
   "source": [
    "import re  #regular expression\n",
    "import string"
   ]
  },
  {
   "cell_type": "code",
   "execution_count": 12,
   "metadata": {},
   "outputs": [],
   "source": [
    "def clean_data(text):\n",
    "    '''Make text lowercase, remove text in square brackets, remove punctuation and remove words containing numbers.'''\n",
    "    text = text.lower()\n",
    "    text = re.sub('\\[.*?\\]','', text)\n",
    "    text = re.sub('[%s]' % re.escape(string.punctuation), '', text)\n",
    "    text = re.sub('\\w*\\d\\w*', '', text)\n",
    "    text = re.sub(\"[0-9\" \"]+\",\" \",text)\n",
    "    text = re.sub('[‘’“”…]', '', text)\n",
    "    return text\n",
    "\n",
    "clean = lambda Text: clean_data(Text)"
   ]
  },
  {
   "cell_type": "code",
   "execution_count": 13,
   "metadata": {},
   "outputs": [],
   "source": [
    "book['Text'] = book.Text.apply(clean)"
   ]
  },
  {
   "cell_type": "code",
   "execution_count": 14,
   "metadata": {},
   "outputs": [
    {
     "data": {
      "text/plain": [
       "0     i went to reorder section to purchase this mas...\n",
       "1     these masks are really awesome its thread is a...\n",
       "2     best item  these  are of perfect quality at ve...\n",
       "3     same to same as shown in image  coverage of th...\n",
       "4     excellent quality and interesting thing is i g...\n",
       "5     gd quality mask on its categoryu can go for it...\n",
       "6                         perfect size that fits to all\n",
       "7             it contains  packet with perfectly packed\n",
       "8            every pieces was perfect that is no defect\n",
       "9     in market its one pieces is high so value for ...\n",
       "10    all masks are of same size and are very comfor...\n",
       "11                                       and super safe\n",
       "12    have ordered this product multiple times recei...\n",
       "13    very nice product i loved it it is suitable fo...\n",
       "14       recived only  mask actual order was your  mask\n",
       "15    i re order the mask assuming the quality would...\n",
       "16                             only got  pieces of mask\n",
       "17    very very good product send by flipkart thanks...\n",
       "18    im so disappointed in buying this product why ...\n",
       "19              most of the mask doesnt contain the tie\n",
       "20                               all mask are different\n",
       "21                                              quality\n",
       "22                     it cannot te considered as  mask\n",
       "23    i receieved only  masks waste of money dont bu...\n",
       "24    amazing product  all  masks are so cheap price...\n",
       "Name: Text, dtype: object"
      ]
     },
     "execution_count": 14,
     "metadata": {},
     "output_type": "execute_result"
    }
   ],
   "source": [
    "book['Text']"
   ]
  },
  {
   "cell_type": "code",
   "execution_count": 16,
   "metadata": {},
   "outputs": [],
   "source": [
    "book = [Text.strip() for Text in book.Text]"
   ]
  },
  {
   "cell_type": "code",
   "execution_count": 18,
   "metadata": {},
   "outputs": [],
   "source": [
    "book = [Text for Text in book if Text]"
   ]
  },
  {
   "cell_type": "code",
   "execution_count": 19,
   "metadata": {},
   "outputs": [
    {
     "data": {
      "text/plain": [
       "['i went to reorder section to purchase this mask that i last purchased back in october  i thought that only the price has dropped somehow i even compared the names and found that both are same i got this today and turns out to be a complete disappointment the quality of the material used is much bad they even changed the structure of the support and it is much uglier i feel that the surgical mask is even better substitute than this one quite a big disappointment',\n",
       " 'these masks are really awesome its thread is attached properly and nose clip thing is greaton top of thatit is quite soft as well i wear specs on top of mask and it did not create any fogging thereso pretty good',\n",
       " 'best item  these  are of perfect quality at very less prices  it would recommend these masks to everyone here who are looking to protect them in these pandemic  all masks are of top quality and are washable',\n",
       " 'same to same as shown in image  coverage of these  is amazing and very comfortable to wear worth my each and every penny',\n",
       " 'excellent quality and interesting thing is i got  mask but the pack says  i just loved the product',\n",
       " 'gd quality mask on its categoryu can go for it for daily usage basis as it definitely protect u from dust',\n",
       " 'perfect size that fits to all',\n",
       " 'it contains  packet with perfectly packed',\n",
       " 'every pieces was perfect that is no defect',\n",
       " 'in market its one pieces is high so value for money']"
      ]
     },
     "execution_count": 19,
     "metadata": {},
     "output_type": "execute_result"
    }
   ],
   "source": [
    "book[0:10]"
   ]
  },
  {
   "cell_type": "code",
   "execution_count": 20,
   "metadata": {},
   "outputs": [
    {
     "data": {
      "text/plain": [
       "'i went to reorder section to purchase this mask that i last purchased back in october  i thought that only the price has dropped somehow i even compared the names and found that both are same i got this today and turns out to be a complete disappointment the quality of the material used is much bad they even changed the structure of the support and it is much uglier i feel that the surgical mask is even better substitute than this one quite a big disappointment these masks are really awesome its thread is attached properly and nose clip thing is greaton top of thatit is quite soft as well i wear specs on top of mask and it did not create any fogging thereso pretty good best item  these  are of perfect quality at very less prices  it would recommend these masks to everyone here who are looking to protect them in these pandemic  all masks are of top quality and are washable same to same as shown in image  coverage of these  is amazing and very comfortable to wear worth my each and every penny excellent quality and interesting thing is i got  mask but the pack says  i just loved the product gd quality mask on its categoryu can go for it for daily usage basis as it definitely protect u from dust perfect size that fits to all it contains  packet with perfectly packed every pieces was perfect that is no defect in market its one pieces is high so value for money all masks are of same size and are very comfortable to wear  with soft earloops  best thing is all mask are comes under electronic sealed packaging so no human contact and super safe have ordered this product multiple times received consignment doesnt have any defects and have individual plastic packing for each mask the mask appear to be of good quality compared to those available in local stores with nose clip and adequately strong and soft ear loops very nice product i loved it it is suitable for every face thank you flipkart recived only  mask actual order was your  mask i re order the mask assuming the quality would be same  worst quality recommend not to buy only got  pieces of mask very very good product send by flipkart thanks so much im so disappointed in buying this product why because most of the mask doesnt contain the tie all mask are different quality it cannot te considered as  mask i receieved only  masks waste of money dont buy this quality is also poor and they are sending only  masks amazing product  all  masks are so cheap price and of best quality all masks are of equal size and shape are very comfortable to wear'"
      ]
     },
     "execution_count": 20,
     "metadata": {},
     "output_type": "execute_result"
    }
   ],
   "source": [
    "book1 = ' '.join(book)\n",
    "book1"
   ]
  },
  {
   "cell_type": "code",
   "execution_count": 25,
   "metadata": {},
   "outputs": [
    {
     "data": {
      "text/html": [
       "<span class=\"tex2jax_ignore\"><div class=\"entities\" style=\"line-height: 2.5; direction: ltr\">i went to reorder section to purchase this mask that i last purchased back in \n",
       "<mark class=\"entity\" style=\"background: #bfe1d9; padding: 0.45em 0.6em; margin: 0 0.25em; line-height: 1; border-radius: 0.35em;\">\n",
       "    october\n",
       "    <span style=\"font-size: 0.8em; font-weight: bold; line-height: 1; border-radius: 0.35em; vertical-align: middle; margin-left: 0.5rem\">DATE</span>\n",
       "</mark>\n",
       "  i thought that only the price has dropped somehow i even compared the names and found that both are same i got this today and turns out to be a complete disappointment the quality of the material used is much bad they even changed the structure of the support and it is much uglier i feel that the surgical mask is even better substitute than this one quite a big disappointment these masks are really awesome its thread is attached properly and nose clip thing is greaton top of thatit is quite soft as well i wear specs on top of mask and it did not create any fogging thereso pretty good best item  these  are of perfect quality at very less prices  it would recommend these masks to everyone here who are looking to protect them in these pandemic  all masks are of top quality and are washable same to same as shown in image  coverage of these  is amazing and very comfortable to wear worth my each and every penny excellent quality and interesting thing is i got  mask but the pack says  i just loved the product gd quality mask on its categoryu can go for it for \n",
       "<mark class=\"entity\" style=\"background: #bfe1d9; padding: 0.45em 0.6em; margin: 0 0.25em; line-height: 1; border-radius: 0.35em;\">\n",
       "    daily\n",
       "    <span style=\"font-size: 0.8em; font-weight: bold; line-height: 1; border-radius: 0.35em; vertical-align: middle; margin-left: 0.5rem\">DATE</span>\n",
       "</mark>\n",
       " usage basis as it definitely protect u from dust perfect size that fits to all it contains  packet with perfectly packed every pieces was perfect that is no defect in market its \n",
       "<mark class=\"entity\" style=\"background: #e4e7d2; padding: 0.45em 0.6em; margin: 0 0.25em; line-height: 1; border-radius: 0.35em;\">\n",
       "    one\n",
       "    <span style=\"font-size: 0.8em; font-weight: bold; line-height: 1; border-radius: 0.35em; vertical-align: middle; margin-left: 0.5rem\">CARDINAL</span>\n",
       "</mark>\n",
       " pieces is high so value for money all masks are of same size and are very comfortable to wear  with soft earloops  best thing is all mask are comes under electronic sealed packaging so no human contact and super safe have ordered this product multiple times received consignment doesnt have any defects and have individual plastic packing for each mask the mask appear to be of good quality compared to those available in local stores with nose clip and adequately strong and soft ear loops very nice product i loved it it is suitable for every face thank you flipkart recived only  mask actual order was your  mask i re order the mask assuming the quality would be same  worst quality recommend not to buy only got  pieces of mask very very good product send by flipkart thanks so much im so disappointed in buying this product why because most of the mask doesnt contain the tie all mask are different quality it cannot te considered as  mask i receieved only  masks waste of money dont buy this quality is also poor and they are sending only  masks amazing product  all  masks are so cheap price and of best quality all masks are of equal size and shape are very comfortable to wear</div></span>"
      ],
      "text/plain": [
       "<IPython.core.display.HTML object>"
      ]
     },
     "metadata": {},
     "output_type": "display_data"
    }
   ],
   "source": [
    "nlp = spacy.load('en_core_web_sm')\n",
    "\n",
    "book2 = nlp(book1)\n",
    "spacy.displacy.render(book2,style='ent',jupyter=True)"
   ]
  },
  {
   "cell_type": "code",
   "execution_count": 26,
   "metadata": {},
   "outputs": [
    {
     "name": "stdout",
     "output_type": "stream",
     "text": [
      "i PRON\n",
      "went VERB\n",
      "to ADP\n",
      "reorder NOUN\n",
      "section NOUN\n",
      "to PART\n",
      "purchase VERB\n",
      "this DET\n",
      "mask NOUN\n",
      "that DET\n",
      "i PRON\n",
      "last ADV\n",
      "purchased VERB\n",
      "back ADV\n",
      "in ADP\n",
      "october NOUN\n",
      "  SPACE\n",
      "i PRON\n",
      "thought VERB\n",
      "that SCONJ\n",
      "only ADV\n",
      "the DET\n",
      "price NOUN\n",
      "has AUX\n",
      "dropped VERB\n",
      "somehow ADV\n",
      "i PRON\n",
      "even ADV\n",
      "compared VERB\n",
      "the DET\n",
      "names NOUN\n",
      "and CCONJ\n",
      "found VERB\n",
      "that SCONJ\n",
      "both DET\n",
      "are AUX\n",
      "same ADJ\n",
      "i PRON\n",
      "got VERB\n",
      "this DET\n",
      "today NOUN\n",
      "and CCONJ\n",
      "turns VERB\n",
      "out ADP\n",
      "to PART\n",
      "be VERB\n",
      "a DET\n",
      "complete ADJ\n",
      "disappointment NOUN\n",
      "the DET\n"
     ]
    }
   ],
   "source": [
    "for token in book2[0:50]:\n",
    "  print(token,token.pos_)"
   ]
  },
  {
   "cell_type": "code",
   "execution_count": 27,
   "metadata": {},
   "outputs": [
    {
     "name": "stdout",
     "output_type": "stream",
     "text": [
      "['went', 'reorder', 'section', 'purchase', 'mask', 'purchased', 'october', 'thought', 'price', 'dropped', 'compared', 'names', 'found', 'got', 'today', 'turns', 'be', 'disappointment', 'quality', 'material']\n"
     ]
    }
   ],
   "source": [
    "noun_vrbs = [token.text for token in book2 if token.pos_ in ('NOUN','VERB')]\n",
    "print(noun_vrbs[0:20])"
   ]
  },
  {
   "cell_type": "code",
   "execution_count": 28,
   "metadata": {},
   "outputs": [],
   "source": [
    "from sklearn.feature_extraction.text import CountVectorizer\n",
    "cv = CountVectorizer()"
   ]
  },
  {
   "cell_type": "code",
   "execution_count": 31,
   "metadata": {},
   "outputs": [
    {
     "data": {
      "text/html": [
       "<div>\n",
       "<style scoped>\n",
       "    .dataframe tbody tr th:only-of-type {\n",
       "        vertical-align: middle;\n",
       "    }\n",
       "\n",
       "    .dataframe tbody tr th {\n",
       "        vertical-align: top;\n",
       "    }\n",
       "\n",
       "    .dataframe thead th {\n",
       "        text-align: right;\n",
       "    }\n",
       "</style>\n",
       "<table border=\"1\" class=\"dataframe\">\n",
       "  <thead>\n",
       "    <tr style=\"text-align: right;\">\n",
       "      <th></th>\n",
       "      <th>word</th>\n",
       "      <th>count</th>\n",
       "    </tr>\n",
       "  </thead>\n",
       "  <tbody>\n",
       "    <tr>\n",
       "      <th>0</th>\n",
       "      <td>mask</td>\n",
       "      <td>15</td>\n",
       "    </tr>\n",
       "    <tr>\n",
       "      <th>1</th>\n",
       "      <td>quality</td>\n",
       "      <td>11</td>\n",
       "    </tr>\n",
       "    <tr>\n",
       "      <th>2</th>\n",
       "      <td>is</td>\n",
       "      <td>8</td>\n",
       "    </tr>\n",
       "    <tr>\n",
       "      <th>3</th>\n",
       "      <td>masks</td>\n",
       "      <td>8</td>\n",
       "    </tr>\n",
       "    <tr>\n",
       "      <th>4</th>\n",
       "      <td>are</td>\n",
       "      <td>6</td>\n",
       "    </tr>\n",
       "    <tr>\n",
       "      <th>5</th>\n",
       "      <td>product</td>\n",
       "      <td>6</td>\n",
       "    </tr>\n",
       "    <tr>\n",
       "      <th>6</th>\n",
       "      <td>wear</td>\n",
       "      <td>4</td>\n",
       "    </tr>\n",
       "    <tr>\n",
       "      <th>7</th>\n",
       "      <td>got</td>\n",
       "      <td>3</td>\n",
       "    </tr>\n",
       "    <tr>\n",
       "      <th>8</th>\n",
       "      <td>be</td>\n",
       "      <td>3</td>\n",
       "    </tr>\n",
       "    <tr>\n",
       "      <th>9</th>\n",
       "      <td>thing</td>\n",
       "      <td>3</td>\n",
       "    </tr>\n",
       "  </tbody>\n",
       "</table>\n",
       "</div>"
      ],
      "text/plain": [
       "      word  count\n",
       "0     mask     15\n",
       "1  quality     11\n",
       "2       is      8\n",
       "3    masks      8\n",
       "4      are      6\n",
       "5  product      6\n",
       "6     wear      4\n",
       "7      got      3\n",
       "8       be      3\n",
       "9    thing      3"
      ]
     },
     "execution_count": 31,
     "metadata": {},
     "output_type": "execute_result"
    }
   ],
   "source": [
    "X = cv.fit_transform(noun_vrbs)\n",
    "sum_words = X.sum(axis=0)\n",
    "words_freq = [(word, sum_words[0, idx]) for word, idx in cv.vocabulary_.items()]\n",
    "words_freq =sorted(words_freq, key = lambda Text: Text[1], reverse=True)\n",
    "wf_df = pd.DataFrame(words_freq)\n",
    "wf_df.columns = ['word', 'count']\n",
    "\n",
    "wf_df[0:10]"
   ]
  },
  {
   "cell_type": "code",
   "execution_count": 30,
   "metadata": {},
   "outputs": [
    {
     "data": {
      "text/plain": [
       "<AxesSubplot:title={'center':'Top Nouns and Verbs'}, xlabel='word'>"
      ]
     },
     "execution_count": 30,
     "metadata": {},
     "output_type": "execute_result"
    },
    {
     "data": {
      "image/png": "[encoded data removed]",
      "text/plain": [
       "<Figure size 1440x720 with 1 Axes>"
      ]
     },
     "metadata": {
      "needs_background": "light"
     },
     "output_type": "display_data"
    }
   ],
   "source": [
    "wf_df[0:10].plot.bar(x='word', figsize=(20,10), title='Top Nouns and Verbs')"
   ]
  },
  {
   "cell_type": "code",
   "execution_count": null,
   "metadata": {},
   "outputs": [],
   "source": []
  },
  {
   "cell_type": "code",
   "execution_count": 46,
   "metadata": {},
   "outputs": [],
   "source": [
    "import numpy as np # linear algebra\n",
    "import pandas as pd # data processing, CSV file I/O (e.g. pd.read_csv)\n",
    "import string # special operations on strings\n",
    "import spacy # language models\n",
    "\n",
    "from matplotlib.pyplot import imread\n",
    "from matplotlib import pyplot as plt\n",
    "from wordcloud import WordCloud\n",
    "%matplotlib inline\n",
    "\n",
    "import pandas\n",
    "book=pd.read_csv(\"C:/Users/SUSHIL/Desktop/n95mask.csv\",error_bad_lines=False,encoding='cp1252')\n",
    "book = [Text.strip() for Text in book.Text] # remove both the leading and the trailing characters\n",
    "book = [Text for Text in book if Text] # removes empty strings, because they are considered in Python as False"
   ]
  },
  {
   "cell_type": "code",
   "execution_count": 47,
   "metadata": {},
   "outputs": [
    {
     "data": {
      "text/plain": [
       "['I went to reorder section to purchase this mask that I last purchased back in October 2020.',\n",
       " 'I thought that only the price has dropped somehow.',\n",
       " 'I even compared the names and found that both are same.',\n",
       " 'I got this today and turns out to be a complete disappointment.',\n",
       " 'The quality of the material used is much bad.',\n",
       " 'They even changed the structure of the support and it is much uglier.',\n",
       " 'I feel that the surgical mask is even better substitute than this one.',\n",
       " 'Quite a big disappointment.',\n",
       " 'These masks are really awesome.. its thread is attached properly and nose clip thing is great..on top of that,it is quite soft as well.',\n",
       " 'I wear specs on top of mask, and it did not create any fogging there.so pretty good Best Item , these N95 are of perfect quality at very less prices , It would recommend these Masks to everyone here who are looking to protect them in these Pandemic .']"
      ]
     },
     "execution_count": 47,
     "metadata": {},
     "output_type": "execute_result"
    }
   ],
   "source": [
    "from nltk import tokenize\n",
    "sentences = tokenize.sent_tokenize(\" \".join(book))\n",
    "sentences[:10]"
   ]
  },
  {
   "cell_type": "code",
   "execution_count": 48,
   "metadata": {},
   "outputs": [
    {
     "data": {
      "text/html": [
       "<div>\n",
       "<style scoped>\n",
       "    .dataframe tbody tr th:only-of-type {\n",
       "        vertical-align: middle;\n",
       "    }\n",
       "\n",
       "    .dataframe tbody tr th {\n",
       "        vertical-align: top;\n",
       "    }\n",
       "\n",
       "    .dataframe thead th {\n",
       "        text-align: right;\n",
       "    }\n",
       "</style>\n",
       "<table border=\"1\" class=\"dataframe\">\n",
       "  <thead>\n",
       "    <tr style=\"text-align: right;\">\n",
       "      <th></th>\n",
       "      <th>sentence</th>\n",
       "    </tr>\n",
       "  </thead>\n",
       "  <tbody>\n",
       "    <tr>\n",
       "      <th>0</th>\n",
       "      <td>I went to reorder section to purchase this mas...</td>\n",
       "    </tr>\n",
       "    <tr>\n",
       "      <th>1</th>\n",
       "      <td>I thought that only the price has dropped some...</td>\n",
       "    </tr>\n",
       "    <tr>\n",
       "      <th>2</th>\n",
       "      <td>I even compared the names and found that both ...</td>\n",
       "    </tr>\n",
       "    <tr>\n",
       "      <th>3</th>\n",
       "      <td>I got this today and turns out to be a complet...</td>\n",
       "    </tr>\n",
       "    <tr>\n",
       "      <th>4</th>\n",
       "      <td>The quality of the material used is much bad.</td>\n",
       "    </tr>\n",
       "    <tr>\n",
       "      <th>5</th>\n",
       "      <td>They even changed the structure of the support...</td>\n",
       "    </tr>\n",
       "    <tr>\n",
       "      <th>6</th>\n",
       "      <td>I feel that the surgical mask is even better s...</td>\n",
       "    </tr>\n",
       "    <tr>\n",
       "      <th>7</th>\n",
       "      <td>Quite a big disappointment.</td>\n",
       "    </tr>\n",
       "    <tr>\n",
       "      <th>8</th>\n",
       "      <td>These masks are really awesome.. its thread is...</td>\n",
       "    </tr>\n",
       "    <tr>\n",
       "      <th>9</th>\n",
       "      <td>I wear specs on top of mask, and it did not cr...</td>\n",
       "    </tr>\n",
       "    <tr>\n",
       "      <th>10</th>\n",
       "      <td>All masks are of Top Quality and are washable.</td>\n",
       "    </tr>\n",
       "    <tr>\n",
       "      <th>11</th>\n",
       "      <td>Same to same as shown in image , coverage of t...</td>\n",
       "    </tr>\n",
       "    <tr>\n",
       "      <th>12</th>\n",
       "      <td>Worth my each and every penny Excellent qualit...</td>\n",
       "    </tr>\n",
       "    <tr>\n",
       "      <th>13</th>\n",
       "      <td>perfect size that fits to all It contains 10 p...</td>\n",
       "    </tr>\n",
       "    <tr>\n",
       "      <th>14</th>\n",
       "      <td>All masks are of same size and are very comfor...</td>\n",
       "    </tr>\n",
       "    <tr>\n",
       "      <th>15</th>\n",
       "      <td>Have ordered this product multiple times.</td>\n",
       "    </tr>\n",
       "    <tr>\n",
       "      <th>16</th>\n",
       "      <td>Received consignment doesn't have any defects ...</td>\n",
       "    </tr>\n",
       "    <tr>\n",
       "      <th>17</th>\n",
       "      <td>The mask appear to be of good quality compared...</td>\n",
       "    </tr>\n",
       "    <tr>\n",
       "      <th>18</th>\n",
       "      <td>Very nice product I loved it it is suitable fo...</td>\n",
       "    </tr>\n",
       "  </tbody>\n",
       "</table>\n",
       "</div>"
      ],
      "text/plain": [
       "                                             sentence\n",
       "0   I went to reorder section to purchase this mas...\n",
       "1   I thought that only the price has dropped some...\n",
       "2   I even compared the names and found that both ...\n",
       "3   I got this today and turns out to be a complet...\n",
       "4       The quality of the material used is much bad.\n",
       "5   They even changed the structure of the support...\n",
       "6   I feel that the surgical mask is even better s...\n",
       "7                         Quite a big disappointment.\n",
       "8   These masks are really awesome.. its thread is...\n",
       "9   I wear specs on top of mask, and it did not cr...\n",
       "10     All masks are of Top Quality and are washable.\n",
       "11  Same to same as shown in image , coverage of t...\n",
       "12  Worth my each and every penny Excellent qualit...\n",
       "13  perfect size that fits to all It contains 10 p...\n",
       "14  All masks are of same size and are very comfor...\n",
       "15          Have ordered this product multiple times.\n",
       "16  Received consignment doesn't have any defects ...\n",
       "17  The mask appear to be of good quality compared...\n",
       "18  Very nice product I loved it it is suitable fo..."
      ]
     },
     "execution_count": 48,
     "metadata": {},
     "output_type": "execute_result"
    }
   ],
   "source": [
    "sent_df = pd.DataFrame(sentences, columns=['sentence'])\n",
    "sent_df"
   ]
  },
  {
   "cell_type": "code",
   "execution_count": 49,
   "metadata": {},
   "outputs": [],
   "source": [
    "affinity_scores = afinn.set_index('word')['value'].to_dict()"
   ]
  },
  {
   "cell_type": "code",
   "execution_count": 50,
   "metadata": {},
   "outputs": [],
   "source": [
    "nlp = spacy.load(\"en_core_web_sm\")\n",
    "sentiment_lexicon = affinity_scores\n",
    "\n",
    "def calculate_sentiment(text: str = None):\n",
    "    sent_score = 0\n",
    "    if text:\n",
    "        sentence = nlp(text)\n",
    "        for word in sentence:\n",
    "            sent_score += sentiment_lexicon.get(word.lemma_, 0)\n",
    "    return sent_score"
   ]
  },
  {
   "cell_type": "code",
   "execution_count": 51,
   "metadata": {},
   "outputs": [
    {
     "data": {
      "text/plain": [
       "3"
      ]
     },
     "execution_count": 51,
     "metadata": {},
     "output_type": "execute_result"
    }
   ],
   "source": [
    "calculate_sentiment(text = 'loved')"
   ]
  },
  {
   "cell_type": "code",
   "execution_count": 52,
   "metadata": {},
   "outputs": [],
   "source": [
    "sent_df['sentiment_value'] = sent_df['sentence'].apply(calculate_sentiment)"
   ]
  },
  {
   "cell_type": "code",
   "execution_count": 53,
   "metadata": {},
   "outputs": [
    {
     "data": {
      "text/plain": [
       "0    17\n",
       "1     9\n",
       "2    11\n",
       "3    12\n",
       "4     9\n",
       "5    13\n",
       "6    13\n",
       "7     4\n",
       "8    24\n",
       "9    49\n",
       "Name: word_count, dtype: int64"
      ]
     },
     "execution_count": 53,
     "metadata": {},
     "output_type": "execute_result"
    }
   ],
   "source": [
    "sent_df['word_count'] = sent_df['sentence'].str.split().apply(len)\n",
    "sent_df['word_count'].head(10)"
   ]
  },
  {
   "cell_type": "code",
   "execution_count": 54,
   "metadata": {},
   "outputs": [
    {
     "data": {
      "text/html": [
       "<div>\n",
       "<style scoped>\n",
       "    .dataframe tbody tr th:only-of-type {\n",
       "        vertical-align: middle;\n",
       "    }\n",
       "\n",
       "    .dataframe tbody tr th {\n",
       "        vertical-align: top;\n",
       "    }\n",
       "\n",
       "    .dataframe thead th {\n",
       "        text-align: right;\n",
       "    }\n",
       "</style>\n",
       "<table border=\"1\" class=\"dataframe\">\n",
       "  <thead>\n",
       "    <tr style=\"text-align: right;\">\n",
       "      <th></th>\n",
       "      <th>sentence</th>\n",
       "      <th>sentiment_value</th>\n",
       "      <th>word_count</th>\n",
       "    </tr>\n",
       "  </thead>\n",
       "  <tbody>\n",
       "    <tr>\n",
       "      <th>6</th>\n",
       "      <td>I feel that the surgical mask is even better s...</td>\n",
       "      <td>0</td>\n",
       "      <td>13</td>\n",
       "    </tr>\n",
       "    <tr>\n",
       "      <th>5</th>\n",
       "      <td>They even changed the structure of the support...</td>\n",
       "      <td>2</td>\n",
       "      <td>13</td>\n",
       "    </tr>\n",
       "    <tr>\n",
       "      <th>17</th>\n",
       "      <td>The mask appear to be of good quality compared...</td>\n",
       "      <td>5</td>\n",
       "      <td>25</td>\n",
       "    </tr>\n",
       "    <tr>\n",
       "      <th>11</th>\n",
       "      <td>Same to same as shown in image , coverage of t...</td>\n",
       "      <td>6</td>\n",
       "      <td>19</td>\n",
       "    </tr>\n",
       "    <tr>\n",
       "      <th>13</th>\n",
       "      <td>perfect size that fits to all It contains 10 p...</td>\n",
       "      <td>6</td>\n",
       "      <td>32</td>\n",
       "    </tr>\n",
       "    <tr>\n",
       "      <th>14</th>\n",
       "      <td>All masks are of same size and are very comfor...</td>\n",
       "      <td>8</td>\n",
       "      <td>35</td>\n",
       "    </tr>\n",
       "    <tr>\n",
       "      <th>8</th>\n",
       "      <td>These masks are really awesome.. its thread is...</td>\n",
       "      <td>9</td>\n",
       "      <td>24</td>\n",
       "    </tr>\n",
       "    <tr>\n",
       "      <th>12</th>\n",
       "      <td>Worth my each and every penny Excellent qualit...</td>\n",
       "      <td>11</td>\n",
       "      <td>47</td>\n",
       "    </tr>\n",
       "    <tr>\n",
       "      <th>9</th>\n",
       "      <td>I wear specs on top of mask, and it did not cr...</td>\n",
       "      <td>12</td>\n",
       "      <td>49</td>\n",
       "    </tr>\n",
       "    <tr>\n",
       "      <th>18</th>\n",
       "      <td>Very nice product I loved it it is suitable fo...</td>\n",
       "      <td>12</td>\n",
       "      <td>141</td>\n",
       "    </tr>\n",
       "  </tbody>\n",
       "</table>\n",
       "</div>"
      ],
      "text/plain": [
       "                                             sentence  sentiment_value  \\\n",
       "6   I feel that the surgical mask is even better s...                0   \n",
       "5   They even changed the structure of the support...                2   \n",
       "17  The mask appear to be of good quality compared...                5   \n",
       "11  Same to same as shown in image , coverage of t...                6   \n",
       "13  perfect size that fits to all It contains 10 p...                6   \n",
       "14  All masks are of same size and are very comfor...                8   \n",
       "8   These masks are really awesome.. its thread is...                9   \n",
       "12  Worth my each and every penny Excellent qualit...               11   \n",
       "9   I wear specs on top of mask, and it did not cr...               12   \n",
       "18  Very nice product I loved it it is suitable fo...               12   \n",
       "\n",
       "    word_count  \n",
       "6           13  \n",
       "5           13  \n",
       "17          25  \n",
       "11          19  \n",
       "13          32  \n",
       "14          35  \n",
       "8           24  \n",
       "12          47  \n",
       "9           49  \n",
       "18         141  "
      ]
     },
     "execution_count": 54,
     "metadata": {},
     "output_type": "execute_result"
    }
   ],
   "source": [
    "sent_df.sort_values(by='sentiment_value').tail(10)"
   ]
  },
  {
   "cell_type": "code",
   "execution_count": 24,
   "metadata": {},
   "outputs": [
    {
     "data": {
      "text/plain": [
       "count    19.000000\n",
       "mean      3.210526\n",
       "std       5.180937\n",
       "min      -3.000000\n",
       "25%      -0.500000\n",
       "50%       0.000000\n",
       "75%       7.000000\n",
       "max      12.000000\n",
       "Name: sentiment_value, dtype: float64"
      ]
     },
     "execution_count": 24,
     "metadata": {},
     "output_type": "execute_result"
    }
   ],
   "source": [
    "sent_df['sentiment_value'].describe()"
   ]
  },
  {
   "cell_type": "code",
   "execution_count": 25,
   "metadata": {},
   "outputs": [
    {
     "data": {
      "text/html": [
       "<div>\n",
       "<style scoped>\n",
       "    .dataframe tbody tr th:only-of-type {\n",
       "        vertical-align: middle;\n",
       "    }\n",
       "\n",
       "    .dataframe tbody tr th {\n",
       "        vertical-align: top;\n",
       "    }\n",
       "\n",
       "    .dataframe thead th {\n",
       "        text-align: right;\n",
       "    }\n",
       "</style>\n",
       "<table border=\"1\" class=\"dataframe\">\n",
       "  <thead>\n",
       "    <tr style=\"text-align: right;\">\n",
       "      <th></th>\n",
       "      <th>sentence</th>\n",
       "      <th>sentiment_value</th>\n",
       "      <th>word_count</th>\n",
       "    </tr>\n",
       "  </thead>\n",
       "  <tbody>\n",
       "    <tr>\n",
       "      <th>0</th>\n",
       "      <td>I went to reorder section to purchase this mas...</td>\n",
       "      <td>0</td>\n",
       "      <td>17</td>\n",
       "    </tr>\n",
       "    <tr>\n",
       "      <th>1</th>\n",
       "      <td>I thought that only the price has dropped some...</td>\n",
       "      <td>-1</td>\n",
       "      <td>9</td>\n",
       "    </tr>\n",
       "    <tr>\n",
       "      <th>2</th>\n",
       "      <td>I even compared the names and found that both ...</td>\n",
       "      <td>0</td>\n",
       "      <td>11</td>\n",
       "    </tr>\n",
       "    <tr>\n",
       "      <th>3</th>\n",
       "      <td>I got this today and turns out to be a complet...</td>\n",
       "      <td>-2</td>\n",
       "      <td>12</td>\n",
       "    </tr>\n",
       "    <tr>\n",
       "      <th>4</th>\n",
       "      <td>The quality of the material used is much bad.</td>\n",
       "      <td>-3</td>\n",
       "      <td>9</td>\n",
       "    </tr>\n",
       "  </tbody>\n",
       "</table>\n",
       "</div>"
      ],
      "text/plain": [
       "                                            sentence  sentiment_value  \\\n",
       "0  I went to reorder section to purchase this mas...                0   \n",
       "1  I thought that only the price has dropped some...               -1   \n",
       "2  I even compared the names and found that both ...                0   \n",
       "3  I got this today and turns out to be a complet...               -2   \n",
       "4      The quality of the material used is much bad.               -3   \n",
       "\n",
       "   word_count  \n",
       "0          17  \n",
       "1           9  \n",
       "2          11  \n",
       "3          12  \n",
       "4           9  "
      ]
     },
     "execution_count": 25,
     "metadata": {},
     "output_type": "execute_result"
    }
   ],
   "source": [
    "sent_df[sent_df['sentiment_value']<=0].head()"
   ]
  },
  {
   "cell_type": "code",
   "execution_count": 26,
   "metadata": {},
   "outputs": [],
   "source": [
    "sent_df['index']=range(0,len(sent_df))"
   ]
  },
  {
   "cell_type": "code",
   "execution_count": 57,
   "metadata": {},
   "outputs": [
    {
     "data": {
      "text/html": [
       "<div>\n",
       "<style scoped>\n",
       "    .dataframe tbody tr th:only-of-type {\n",
       "        vertical-align: middle;\n",
       "    }\n",
       "\n",
       "    .dataframe tbody tr th {\n",
       "        vertical-align: top;\n",
       "    }\n",
       "\n",
       "    .dataframe thead th {\n",
       "        text-align: right;\n",
       "    }\n",
       "</style>\n",
       "<table border=\"1\" class=\"dataframe\">\n",
       "  <thead>\n",
       "    <tr style=\"text-align: right;\">\n",
       "      <th></th>\n",
       "      <th>sentence</th>\n",
       "      <th>sentiment_value</th>\n",
       "      <th>word_count</th>\n",
       "    </tr>\n",
       "  </thead>\n",
       "  <tbody>\n",
       "    <tr>\n",
       "      <th>9</th>\n",
       "      <td>I wear specs on top of mask, and it did not cr...</td>\n",
       "      <td>12</td>\n",
       "      <td>49</td>\n",
       "    </tr>\n",
       "    <tr>\n",
       "      <th>12</th>\n",
       "      <td>Worth my each and every penny Excellent qualit...</td>\n",
       "      <td>11</td>\n",
       "      <td>47</td>\n",
       "    </tr>\n",
       "    <tr>\n",
       "      <th>18</th>\n",
       "      <td>Very nice product I loved it it is suitable fo...</td>\n",
       "      <td>12</td>\n",
       "      <td>141</td>\n",
       "    </tr>\n",
       "  </tbody>\n",
       "</table>\n",
       "</div>"
      ],
      "text/plain": [
       "                                             sentence  sentiment_value  \\\n",
       "9   I wear specs on top of mask, and it did not cr...               12   \n",
       "12  Worth my each and every penny Excellent qualit...               11   \n",
       "18  Very nice product I loved it it is suitable fo...               12   \n",
       "\n",
       "    word_count  \n",
       "9           49  \n",
       "12          47  \n",
       "18         141  "
      ]
     },
     "execution_count": 57,
     "metadata": {},
     "output_type": "execute_result"
    }
   ],
   "source": [
    "sent_df[sent_df['sentiment_value'] >=10]"
   ]
  },
  {
   "cell_type": "code",
   "execution_count": 58,
   "metadata": {},
   "outputs": [
    {
     "data": {
      "text/html": [
       "<div>\n",
       "<style scoped>\n",
       "    .dataframe tbody tr th:only-of-type {\n",
       "        vertical-align: middle;\n",
       "    }\n",
       "\n",
       "    .dataframe tbody tr th {\n",
       "        vertical-align: top;\n",
       "    }\n",
       "\n",
       "    .dataframe thead th {\n",
       "        text-align: right;\n",
       "    }\n",
       "</style>\n",
       "<table border=\"1\" class=\"dataframe\">\n",
       "  <thead>\n",
       "    <tr style=\"text-align: right;\">\n",
       "      <th></th>\n",
       "      <th>sentence</th>\n",
       "      <th>sentiment_value</th>\n",
       "      <th>word_count</th>\n",
       "    </tr>\n",
       "  </thead>\n",
       "  <tbody>\n",
       "    <tr>\n",
       "      <th>0</th>\n",
       "      <td>I went to reorder section to purchase this mas...</td>\n",
       "      <td>0</td>\n",
       "      <td>17</td>\n",
       "    </tr>\n",
       "    <tr>\n",
       "      <th>1</th>\n",
       "      <td>I thought that only the price has dropped some...</td>\n",
       "      <td>-1</td>\n",
       "      <td>9</td>\n",
       "    </tr>\n",
       "    <tr>\n",
       "      <th>2</th>\n",
       "      <td>I even compared the names and found that both ...</td>\n",
       "      <td>0</td>\n",
       "      <td>11</td>\n",
       "    </tr>\n",
       "    <tr>\n",
       "      <th>3</th>\n",
       "      <td>I got this today and turns out to be a complet...</td>\n",
       "      <td>-2</td>\n",
       "      <td>12</td>\n",
       "    </tr>\n",
       "    <tr>\n",
       "      <th>4</th>\n",
       "      <td>The quality of the material used is much bad.</td>\n",
       "      <td>-3</td>\n",
       "      <td>9</td>\n",
       "    </tr>\n",
       "    <tr>\n",
       "      <th>5</th>\n",
       "      <td>They even changed the structure of the support...</td>\n",
       "      <td>2</td>\n",
       "      <td>13</td>\n",
       "    </tr>\n",
       "    <tr>\n",
       "      <th>6</th>\n",
       "      <td>I feel that the surgical mask is even better s...</td>\n",
       "      <td>0</td>\n",
       "      <td>13</td>\n",
       "    </tr>\n",
       "    <tr>\n",
       "      <th>7</th>\n",
       "      <td>Quite a big disappointment.</td>\n",
       "      <td>-1</td>\n",
       "      <td>4</td>\n",
       "    </tr>\n",
       "    <tr>\n",
       "      <th>8</th>\n",
       "      <td>These masks are really awesome.. its thread is...</td>\n",
       "      <td>9</td>\n",
       "      <td>24</td>\n",
       "    </tr>\n",
       "    <tr>\n",
       "      <th>10</th>\n",
       "      <td>All masks are of Top Quality and are washable.</td>\n",
       "      <td>0</td>\n",
       "      <td>9</td>\n",
       "    </tr>\n",
       "    <tr>\n",
       "      <th>11</th>\n",
       "      <td>Same to same as shown in image , coverage of t...</td>\n",
       "      <td>6</td>\n",
       "      <td>19</td>\n",
       "    </tr>\n",
       "    <tr>\n",
       "      <th>13</th>\n",
       "      <td>perfect size that fits to all It contains 10 p...</td>\n",
       "      <td>6</td>\n",
       "      <td>32</td>\n",
       "    </tr>\n",
       "    <tr>\n",
       "      <th>14</th>\n",
       "      <td>All masks are of same size and are very comfor...</td>\n",
       "      <td>8</td>\n",
       "      <td>35</td>\n",
       "    </tr>\n",
       "    <tr>\n",
       "      <th>15</th>\n",
       "      <td>Have ordered this product multiple times.</td>\n",
       "      <td>0</td>\n",
       "      <td>6</td>\n",
       "    </tr>\n",
       "    <tr>\n",
       "      <th>16</th>\n",
       "      <td>Received consignment doesn't have any defects ...</td>\n",
       "      <td>-3</td>\n",
       "      <td>14</td>\n",
       "    </tr>\n",
       "    <tr>\n",
       "      <th>17</th>\n",
       "      <td>The mask appear to be of good quality compared...</td>\n",
       "      <td>5</td>\n",
       "      <td>25</td>\n",
       "    </tr>\n",
       "  </tbody>\n",
       "</table>\n",
       "</div>"
      ],
      "text/plain": [
       "                                             sentence  sentiment_value  \\\n",
       "0   I went to reorder section to purchase this mas...                0   \n",
       "1   I thought that only the price has dropped some...               -1   \n",
       "2   I even compared the names and found that both ...                0   \n",
       "3   I got this today and turns out to be a complet...               -2   \n",
       "4       The quality of the material used is much bad.               -3   \n",
       "5   They even changed the structure of the support...                2   \n",
       "6   I feel that the surgical mask is even better s...                0   \n",
       "7                         Quite a big disappointment.               -1   \n",
       "8   These masks are really awesome.. its thread is...                9   \n",
       "10     All masks are of Top Quality and are washable.                0   \n",
       "11  Same to same as shown in image , coverage of t...                6   \n",
       "13  perfect size that fits to all It contains 10 p...                6   \n",
       "14  All masks are of same size and are very comfor...                8   \n",
       "15          Have ordered this product multiple times.                0   \n",
       "16  Received consignment doesn't have any defects ...               -3   \n",
       "17  The mask appear to be of good quality compared...                5   \n",
       "\n",
       "    word_count  \n",
       "0           17  \n",
       "1            9  \n",
       "2           11  \n",
       "3           12  \n",
       "4            9  \n",
       "5           13  \n",
       "6           13  \n",
       "7            4  \n",
       "8           24  \n",
       "10           9  \n",
       "11          19  \n",
       "13          32  \n",
       "14          35  \n",
       "15           6  \n",
       "16          14  \n",
       "17          25  "
      ]
     },
     "execution_count": 58,
     "metadata": {},
     "output_type": "execute_result"
    }
   ],
   "source": [
    "sent_df[sent_df['sentiment_value'] <=10]"
   ]
  },
  {
   "cell_type": "code",
   "execution_count": 27,
   "metadata": {},
   "outputs": [
    {
     "name": "stderr",
     "output_type": "stream",
     "text": [
      "C:\\Users\\SUSHIL\\anaconda3\\lib\\site-packages\\seaborn\\distributions.py:2551: FutureWarning: `distplot` is a deprecated function and will be removed in a future version. Please adapt your code to use either `displot` (a figure-level function with similar flexibility) or `histplot` (an axes-level function for histograms).\n",
      "  warnings.warn(msg, FutureWarning)\n"
     ]
    },
    {
     "data": {
      "text/plain": [
       "<AxesSubplot:xlabel='sentiment_value', ylabel='Density'>"
      ]
     },
     "execution_count": 27,
     "metadata": {},
     "output_type": "execute_result"
    },
    {
     "data": {
      "image/png": "[encoded data removed]",
      "text/plain": [
       "<Figure size 432x288 with 1 Axes>"
      ]
     },
     "metadata": {
      "needs_background": "light"
     },
     "output_type": "display_data"
    }
   ],
   "source": [
    "import seaborn as sns\n",
    "import matplotlib.pyplot as plt\n",
    "sns.distplot(sent_df['sentiment_value'])"
   ]
  },
  {
   "cell_type": "code",
   "execution_count": 28,
   "metadata": {},
   "outputs": [
    {
     "data": {
      "text/plain": [
       "<AxesSubplot:xlabel='index', ylabel='sentiment_value'>"
      ]
     },
     "execution_count": 28,
     "metadata": {},
     "output_type": "execute_result"
    },
    {
     "data": {
      "image/png": "[encoded data removed]",
      "text/plain": [
       "<Figure size 1080x720 with 1 Axes>"
      ]
     },
     "metadata": {
      "needs_background": "light"
     },
     "output_type": "display_data"
    }
   ],
   "source": [
    "plt.figure(figsize=(15, 10))\n",
    "sns.lineplot(y='sentiment_value',x='index',data=sent_df)"
   ]
  },
  {
   "cell_type": "code",
   "execution_count": 29,
   "metadata": {},
   "outputs": [
    {
     "data": {
      "text/plain": [
       "<AxesSubplot:title={'center':'Sentence sentiment value to sentence word count'}, xlabel='word_count', ylabel='sentiment_value'>"
      ]
     },
     "execution_count": 29,
     "metadata": {},
     "output_type": "execute_result"
    },
    {
     "data": {
      "image/png": "[encoded data removed]",
      "text/plain": [
       "<Figure size 576x576 with 1 Axes>"
      ]
     },
     "metadata": {
      "needs_background": "light"
     },
     "output_type": "display_data"
    }
   ],
   "source": [
    "sent_df.plot.scatter(x='word_count', y='sentiment_value', figsize=(8,8), title='Sentence sentiment value to sentence word count')"
   ]
  },
  {
   "cell_type": "code",
   "execution_count": 59,
   "metadata": {},
   "outputs": [],
   "source": [
    "string_total= \" \".join(book)"
   ]
  },
  {
   "cell_type": "code",
   "execution_count": 60,
   "metadata": {},
   "outputs": [
    {
     "data": {
      "text/plain": [
       "<matplotlib.image.AxesImage at 0x1d521634640>"
      ]
     },
     "execution_count": 60,
     "metadata": {},
     "output_type": "execute_result"
    },
    {
     "data": {
      "image/png": "[encoded data removed]",
      "text/plain": [
       "<Figure size 432x288 with 1 Axes>"
      ]
     },
     "metadata": {
      "needs_background": "light"
     },
     "output_type": "display_data"
    }
   ],
   "source": [
    "from wordcloud import WordCloud\n",
    "wordcloud_stw = WordCloud(\n",
    "                background_color= 'black',\n",
    "                width = 1800,\n",
    "                height = 1500\n",
    "                ).generate(string_total)\n",
    "plt.imshow(wordcloud_stw)"
   ]
  }
 ],
 "metadata": {
  "kernelspec": {
   "display_name": "Python 3",
   "language": "python",
   "name": "python3"
  },
  "language_info": {
   "codemirror_mode": {
    "name": "ipython",
    "version": 3
   },
   "file_extension": ".py",
   "mimetype": "text/x-python",
   "name": "python",
   "nbconvert_exporter": "python",
   "pygments_lexer": "ipython3",
   "version": "3.8.5"
  }
 },
 "nbformat": 4,
 "nbformat_minor": 4
}
